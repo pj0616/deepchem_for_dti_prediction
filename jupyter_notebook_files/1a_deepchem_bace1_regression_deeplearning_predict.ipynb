{
 "cells": [
  {
   "cell_type": "markdown",
   "metadata": {},
   "source": [
    "# method 1"
   ]
  },
  {
   "cell_type": "code",
   "execution_count": 5,
   "metadata": {},
   "outputs": [],
   "source": [
    "import numpy as np\n",
    "from deepchem.models import GraphConvModel\n",
    "import tensorflow as tf\n",
    "import deepchem as dc\n",
    "from deepchem.molnet import load_bace_regression"
   ]
  },
  {
   "cell_type": "code",
   "execution_count": 6,
   "metadata": {},
   "outputs": [],
   "source": [
    "# Load bace dataset\n",
    "bace_tasks, bace_datasets, transformers = load_bace_regression(\n",
    "    featurizer='GraphConv', splitter='index')\n",
    "train_dataset, valid_dataset, test_dataset = bace_datasets\n",
    "\n",
    "# Fit models\n",
    "metric = dc.metrics.Metric(dc.metrics.pearson_r2_score, np.mean)\n",
    "\n",
    "# Do setup required for tf/keras models\n",
    "# Number of features on conv-mols\n",
    "n_feat = 75\n",
    "# Batch size of models\n",
    "batch_size = 128\n",
    "model = GraphConvModel(\n",
    "    len(bace_tasks), batch_size=batch_size, mode='regression')"
   ]
  },
  {
   "cell_type": "code",
   "execution_count": 11,
   "metadata": {},
   "outputs": [
    {
     "data": {
      "text/plain": [
       "0.061969642639160154"
      ]
     },
     "execution_count": 11,
     "metadata": {},
     "output_type": "execute_result"
    }
   ],
   "source": [
    "# Fit trained model\n",
    "model.fit(train_dataset, nb_epoch=20)"
   ]
  },
  {
   "cell_type": "code",
   "execution_count": 12,
   "metadata": {},
   "outputs": [
    {
     "name": "stdout",
     "output_type": "stream",
     "text": [
      "Evaluating model\n",
      "Train scores\n",
      "{'mean-pearson_r2_score': 0.9136103642740266}\n",
      "Validation scores\n",
      "{'mean-pearson_r2_score': 0.0011951266972749723}\n",
      "Test scores\n",
      "{'mean-pearson_r2_score': 0.2299841487297963}\n"
     ]
    }
   ],
   "source": [
    "# Note: results change everytime \n",
    "\n",
    "print(\"Evaluating model\")\n",
    "train_scores = model.evaluate(train_dataset, [metric], transformers)\n",
    "valid_scores = model.evaluate(valid_dataset, [metric], transformers)\n",
    "test_scores = model.evaluate(test_dataset, [metric], transformers)\n",
    "\n",
    "print(\"Train scores\")\n",
    "print(train_scores)\n",
    "\n",
    "print(\"Validation scores\")\n",
    "print(valid_scores)\n",
    "\n",
    "print(\"Test scores\")\n",
    "print(test_scores)"
   ]
  },
  {
   "cell_type": "markdown",
   "metadata": {},
   "source": [
    "# method 2"
   ]
  },
  {
   "cell_type": "code",
   "execution_count": 16,
   "metadata": {},
   "outputs": [],
   "source": [
    "import deepchem as dc\n",
    "import tensorflow as tf\n",
    "from deepchem.molnet import load_bace_regression\n",
    "\n",
    "keras_model = tf.keras.Sequential([\n",
    "    tf.keras.layers.Dense(1000, activation='relu'),\n",
    "    tf.keras.layers.Dropout(rate=0.5),\n",
    "    tf.keras.layers.Dense(1)\n",
    "])\n",
    "model = dc.models.KerasModel(keras_model, dc.models.losses.L2Loss())"
   ]
  },
  {
   "cell_type": "code",
   "execution_count": 17,
   "metadata": {},
   "outputs": [],
   "source": [
    "tasks, datasets, transformers = load_bace_regression(featurizer='ECFP', splitter='random', reload = False)"
   ]
  },
  {
   "cell_type": "code",
   "execution_count": 18,
   "metadata": {},
   "outputs": [
    {
     "name": "stdout",
     "output_type": "stream",
     "text": [
      "training set score: {'pearson_r2_score': 0.9777418951115199}\n",
      "validation set score: {'pearson_r2_score': 0.7191636615291138}\n",
      "test set score: {'pearson_r2_score': 0.8024871094356235}\n"
     ]
    }
   ],
   "source": [
    "train_dataset, valid_dataset, test_dataset = datasets\n",
    "model.fit(train_dataset, nb_epoch=50)\n",
    "metric = dc.metrics.Metric(dc.metrics.pearson_r2_score)\n",
    "print('training set score:', model.evaluate(train_dataset, [metric]))\n",
    "print('validation set score:', model.evaluate(valid_dataset, [metric]))\n",
    "print('test set score:', model.evaluate(test_dataset, [metric]))"
   ]
  },
  {
   "cell_type": "markdown",
   "metadata": {},
   "source": [
    "# method 3"
   ]
  },
  {
   "cell_type": "code",
   "execution_count": 19,
   "metadata": {},
   "outputs": [],
   "source": [
    "import torch\n",
    "\n",
    "pytorch_model = torch.nn.Sequential(\n",
    "    torch.nn.Linear(1024, 1000),\n",
    "    torch.nn.ReLU(),\n",
    "    torch.nn.Dropout(0.5),\n",
    "    torch.nn.Linear(1000, 1)\n",
    ")"
   ]
  },
  {
   "cell_type": "code",
   "execution_count": 20,
   "metadata": {},
   "outputs": [
    {
     "name": "stdout",
     "output_type": "stream",
     "text": [
      "training set score: {'pearson_r2_score': 0.9771130105769968}\n",
      "validation set score: {'pearson_r2_score': 0.710429314128445}\n",
      "test set score: {'pearson_r2_score': 0.7811302408990711}\n"
     ]
    }
   ],
   "source": [
    "model = dc.models.TorchModel(pytorch_model, dc.models.losses.L2Loss())\n",
    "\n",
    "model.fit(train_dataset, nb_epoch=50)\n",
    "print('training set score:', model.evaluate(train_dataset, [metric]))\n",
    "print('validation set score:', model.evaluate(valid_dataset, [metric]))\n",
    "print('test set score:', model.evaluate(test_dataset, [metric]))"
   ]
  },
  {
   "cell_type": "markdown",
   "metadata": {},
   "source": [
    "# method 4"
   ]
  },
  {
   "cell_type": "code",
   "execution_count": 37,
   "metadata": {},
   "outputs": [],
   "source": [
    "import deepchem as dc\n",
    "import numpy as np\n",
    "from deepchem.models import GraphConvModel\n",
    "import tensorflow as tf"
   ]
  },
  {
   "cell_type": "code",
   "execution_count": 38,
   "metadata": {},
   "outputs": [
    {
     "name": "stderr",
     "output_type": "stream",
     "text": [
      "smiles_field is deprecated and will be removed in a future version of DeepChem.Use feature_field instead.\n"
     ]
    }
   ],
   "source": [
    "bace_tasks = ['pIC50']\n",
    "featurizer = dc.feat.ConvMolFeaturizer()\n",
    "dataset_file = 'bace.csv'\n",
    "loader = dc.data.CSVLoader(tasks=bace_tasks, smiles_field = 'mol', featurizer=featurizer)\n"
   ]
  },
  {
   "cell_type": "code",
   "execution_count": 39,
   "metadata": {},
   "outputs": [
    {
     "name": "stderr",
     "output_type": "stream",
     "text": [
      "/opt/anaconda3/envs/deepchem/lib/python3.8/site-packages/deepchem/data/data_loader.py:160: FutureWarning: featurize() is deprecated and has been renamed to create_dataset().featurize() will be removed in DeepChem 3.0\n",
      "  warnings.warn(\n"
     ]
    }
   ],
   "source": [
    "dataset = loader.featurize(dataset_file)"
   ]
  },
  {
   "cell_type": "code",
   "execution_count": 40,
   "metadata": {},
   "outputs": [
    {
     "data": {
      "text/html": [
       "<div>\n",
       "<style scoped>\n",
       "    .dataframe tbody tr th:only-of-type {\n",
       "        vertical-align: middle;\n",
       "    }\n",
       "\n",
       "    .dataframe tbody tr th {\n",
       "        vertical-align: top;\n",
       "    }\n",
       "\n",
       "    .dataframe thead th {\n",
       "        text-align: right;\n",
       "    }\n",
       "</style>\n",
       "<table border=\"1\" class=\"dataframe\">\n",
       "  <thead>\n",
       "    <tr style=\"text-align: right;\">\n",
       "      <th></th>\n",
       "      <th>X</th>\n",
       "      <th>y</th>\n",
       "      <th>w</th>\n",
       "      <th>ids</th>\n",
       "    </tr>\n",
       "  </thead>\n",
       "  <tbody>\n",
       "    <tr>\n",
       "      <th>0</th>\n",
       "      <td>&lt;deepchem.feat.mol_graphs.ConvMol object at 0x...</td>\n",
       "      <td>9.154901</td>\n",
       "      <td>1.0</td>\n",
       "      <td>O1CC[C@@H](NC(=O)[C@@H](Cc2cc3cc(ccc3nc2N)-c2c...</td>\n",
       "    </tr>\n",
       "    <tr>\n",
       "      <th>1</th>\n",
       "      <td>&lt;deepchem.feat.mol_graphs.ConvMol object at 0x...</td>\n",
       "      <td>8.853872</td>\n",
       "      <td>1.0</td>\n",
       "      <td>Fc1cc(cc(F)c1)C[C@H](NC(=O)[C@@H](N1CC[C@](NC(...</td>\n",
       "    </tr>\n",
       "    <tr>\n",
       "      <th>2</th>\n",
       "      <td>&lt;deepchem.feat.mol_graphs.ConvMol object at 0x...</td>\n",
       "      <td>8.698970</td>\n",
       "      <td>1.0</td>\n",
       "      <td>S1(=O)(=O)N(c2cc(cc3c2n(cc3CC)CC1)C(=O)N[C@H](...</td>\n",
       "    </tr>\n",
       "    <tr>\n",
       "      <th>3</th>\n",
       "      <td>&lt;deepchem.feat.mol_graphs.ConvMol object at 0x...</td>\n",
       "      <td>8.698970</td>\n",
       "      <td>1.0</td>\n",
       "      <td>S1(=O)(=O)C[C@@H](Cc2cc(O[C@H](COCC)C(F)(F)F)c...</td>\n",
       "    </tr>\n",
       "    <tr>\n",
       "      <th>4</th>\n",
       "      <td>&lt;deepchem.feat.mol_graphs.ConvMol object at 0x...</td>\n",
       "      <td>8.698970</td>\n",
       "      <td>1.0</td>\n",
       "      <td>S1(=O)(=O)N(c2cc(cc3c2n(cc3CC)CC1)C(=O)N[C@H](...</td>\n",
       "    </tr>\n",
       "    <tr>\n",
       "      <th>...</th>\n",
       "      <td>...</td>\n",
       "      <td>...</td>\n",
       "      <td>...</td>\n",
       "      <td>...</td>\n",
       "    </tr>\n",
       "    <tr>\n",
       "      <th>1508</th>\n",
       "      <td>&lt;deepchem.feat.mol_graphs.ConvMol object at 0x...</td>\n",
       "      <td>3.000000</td>\n",
       "      <td>1.0</td>\n",
       "      <td>Clc1cc2nc(n(c2cc1)C(CC(=O)NCC1CCOCC1)CC)N</td>\n",
       "    </tr>\n",
       "    <tr>\n",
       "      <th>1509</th>\n",
       "      <td>&lt;deepchem.feat.mol_graphs.ConvMol object at 0x...</td>\n",
       "      <td>3.000000</td>\n",
       "      <td>1.0</td>\n",
       "      <td>Clc1cc2nc(n(c2cc1)C(CC(=O)NCc1ncccc1)CC)N</td>\n",
       "    </tr>\n",
       "    <tr>\n",
       "      <th>1510</th>\n",
       "      <td>&lt;deepchem.feat.mol_graphs.ConvMol object at 0x...</td>\n",
       "      <td>2.953115</td>\n",
       "      <td>1.0</td>\n",
       "      <td>Brc1cc(ccc1)C1CC1C=1N=C(N)N(C)C(=O)C=1</td>\n",
       "    </tr>\n",
       "    <tr>\n",
       "      <th>1511</th>\n",
       "      <td>&lt;deepchem.feat.mol_graphs.ConvMol object at 0x...</td>\n",
       "      <td>2.733298</td>\n",
       "      <td>1.0</td>\n",
       "      <td>O=C1N(C)C(=NC(=C1)C1CC1c1cc(ccc1)-c1ccccc1)N</td>\n",
       "    </tr>\n",
       "    <tr>\n",
       "      <th>1512</th>\n",
       "      <td>&lt;deepchem.feat.mol_graphs.ConvMol object at 0x...</td>\n",
       "      <td>2.544546</td>\n",
       "      <td>1.0</td>\n",
       "      <td>Clc1cc2nc(n(c2cc1)CCCC(=O)NCC1CC1)N</td>\n",
       "    </tr>\n",
       "  </tbody>\n",
       "</table>\n",
       "<p>1513 rows × 4 columns</p>\n",
       "</div>"
      ],
      "text/plain": [
       "                                                      X         y    w  \\\n",
       "0     <deepchem.feat.mol_graphs.ConvMol object at 0x...  9.154901  1.0   \n",
       "1     <deepchem.feat.mol_graphs.ConvMol object at 0x...  8.853872  1.0   \n",
       "2     <deepchem.feat.mol_graphs.ConvMol object at 0x...  8.698970  1.0   \n",
       "3     <deepchem.feat.mol_graphs.ConvMol object at 0x...  8.698970  1.0   \n",
       "4     <deepchem.feat.mol_graphs.ConvMol object at 0x...  8.698970  1.0   \n",
       "...                                                 ...       ...  ...   \n",
       "1508  <deepchem.feat.mol_graphs.ConvMol object at 0x...  3.000000  1.0   \n",
       "1509  <deepchem.feat.mol_graphs.ConvMol object at 0x...  3.000000  1.0   \n",
       "1510  <deepchem.feat.mol_graphs.ConvMol object at 0x...  2.953115  1.0   \n",
       "1511  <deepchem.feat.mol_graphs.ConvMol object at 0x...  2.733298  1.0   \n",
       "1512  <deepchem.feat.mol_graphs.ConvMol object at 0x...  2.544546  1.0   \n",
       "\n",
       "                                                    ids  \n",
       "0     O1CC[C@@H](NC(=O)[C@@H](Cc2cc3cc(ccc3nc2N)-c2c...  \n",
       "1     Fc1cc(cc(F)c1)C[C@H](NC(=O)[C@@H](N1CC[C@](NC(...  \n",
       "2     S1(=O)(=O)N(c2cc(cc3c2n(cc3CC)CC1)C(=O)N[C@H](...  \n",
       "3     S1(=O)(=O)C[C@@H](Cc2cc(O[C@H](COCC)C(F)(F)F)c...  \n",
       "4     S1(=O)(=O)N(c2cc(cc3c2n(cc3CC)CC1)C(=O)N[C@H](...  \n",
       "...                                                 ...  \n",
       "1508          Clc1cc2nc(n(c2cc1)C(CC(=O)NCC1CCOCC1)CC)N  \n",
       "1509          Clc1cc2nc(n(c2cc1)C(CC(=O)NCc1ncccc1)CC)N  \n",
       "1510             Brc1cc(ccc1)C1CC1C=1N=C(N)N(C)C(=O)C=1  \n",
       "1511       O=C1N(C)C(=NC(=C1)C1CC1c1cc(ccc1)-c1ccccc1)N  \n",
       "1512                Clc1cc2nc(n(c2cc1)CCCC(=O)NCC1CC1)N  \n",
       "\n",
       "[1513 rows x 4 columns]"
      ]
     },
     "execution_count": 40,
     "metadata": {},
     "output_type": "execute_result"
    }
   ],
   "source": [
    "df = dataset.to_dataframe()\n",
    "df"
   ]
  },
  {
   "cell_type": "code",
   "execution_count": 41,
   "metadata": {},
   "outputs": [],
   "source": [
    "transformers = [dc.trans.NormalizationTransformer(transform_y=True, dataset = dataset)]"
   ]
  },
  {
   "cell_type": "code",
   "execution_count": 42,
   "metadata": {},
   "outputs": [
    {
     "name": "stdout",
     "output_type": "stream",
     "text": [
      "about to transform data\n"
     ]
    }
   ],
   "source": [
    "print('about to transform data')\n",
    "for transormer in transformers:\n",
    "    dataset = transormer.transform(dataset)"
   ]
  },
  {
   "cell_type": "code",
   "execution_count": 43,
   "metadata": {},
   "outputs": [],
   "source": [
    "splitter = dc.splits.IndexSplitter()"
   ]
  },
  {
   "cell_type": "code",
   "execution_count": 44,
   "metadata": {},
   "outputs": [],
   "source": [
    "train_dataset, valid_dataset, test_dataset = splitter.train_valid_test_split(dataset)"
   ]
  },
  {
   "cell_type": "code",
   "execution_count": 45,
   "metadata": {},
   "outputs": [],
   "source": [
    "# Fit models\n",
    "metric = dc.metrics.Metric(dc.metrics.pearson_r2_score, np.mean)\n",
    "\n",
    "# Do setup required for tf/keras models\n",
    "# Number of features on conv-mols\n",
    "n_feat = 75\n",
    "# Batch size of models\n",
    "batch_size = 128\n",
    "model = GraphConvModel(\n",
    "    len(bace_tasks), batch_size=batch_size, mode='regression')"
   ]
  },
  {
   "cell_type": "code",
   "execution_count": 46,
   "metadata": {},
   "outputs": [
    {
     "name": "stderr",
     "output_type": "stream",
     "text": [
      "/opt/anaconda3/envs/deepchem/lib/python3.8/site-packages/tensorflow/python/framework/indexed_slices.py:447: UserWarning: Converting sparse IndexedSlices(IndexedSlices(indices=Tensor(\"gradient_tape/private__graph_conv_keras_model_2/graph_pool_5/Reshape_14:0\", shape=(919,), dtype=int32), values=Tensor(\"gradient_tape/private__graph_conv_keras_model_2/graph_pool_5/Reshape_13:0\", shape=(919, 64), dtype=float32), dense_shape=Tensor(\"gradient_tape/private__graph_conv_keras_model_2/graph_pool_5/Cast_4:0\", shape=(2,), dtype=int32))) to a dense Tensor of unknown shape. This may consume a large amount of memory.\n",
      "  warnings.warn(\n",
      "/opt/anaconda3/envs/deepchem/lib/python3.8/site-packages/tensorflow/python/framework/indexed_slices.py:447: UserWarning: Converting sparse IndexedSlices(IndexedSlices(indices=Tensor(\"gradient_tape/private__graph_conv_keras_model_2/graph_pool_5/Reshape_17:0\", shape=(4318,), dtype=int32), values=Tensor(\"gradient_tape/private__graph_conv_keras_model_2/graph_pool_5/Reshape_16:0\", shape=(4318, 64), dtype=float32), dense_shape=Tensor(\"gradient_tape/private__graph_conv_keras_model_2/graph_pool_5/Cast_5:0\", shape=(2,), dtype=int32))) to a dense Tensor of unknown shape. This may consume a large amount of memory.\n",
      "  warnings.warn(\n",
      "/opt/anaconda3/envs/deepchem/lib/python3.8/site-packages/tensorflow/python/framework/indexed_slices.py:447: UserWarning: Converting sparse IndexedSlices(IndexedSlices(indices=Tensor(\"gradient_tape/private__graph_conv_keras_model_2/graph_pool_5/Reshape_20:0\", shape=(3891,), dtype=int32), values=Tensor(\"gradient_tape/private__graph_conv_keras_model_2/graph_pool_5/Reshape_19:0\", shape=(3891, 64), dtype=float32), dense_shape=Tensor(\"gradient_tape/private__graph_conv_keras_model_2/graph_pool_5/Cast_6:0\", shape=(2,), dtype=int32))) to a dense Tensor of unknown shape. This may consume a large amount of memory.\n",
      "  warnings.warn(\n",
      "/opt/anaconda3/envs/deepchem/lib/python3.8/site-packages/tensorflow/python/framework/indexed_slices.py:447: UserWarning: Converting sparse IndexedSlices(IndexedSlices(indices=Tensor(\"gradient_tape/private__graph_conv_keras_model_2/graph_pool_5/Reshape_23:0\", shape=(652,), dtype=int32), values=Tensor(\"gradient_tape/private__graph_conv_keras_model_2/graph_pool_5/Reshape_22:0\", shape=(652, 64), dtype=float32), dense_shape=Tensor(\"gradient_tape/private__graph_conv_keras_model_2/graph_pool_5/Cast_7:0\", shape=(2,), dtype=int32))) to a dense Tensor of unknown shape. This may consume a large amount of memory.\n",
      "  warnings.warn(\n",
      "/opt/anaconda3/envs/deepchem/lib/python3.8/site-packages/tensorflow/python/framework/indexed_slices.py:447: UserWarning: Converting sparse IndexedSlices(IndexedSlices(indices=Tensor(\"gradient_tape/private__graph_conv_keras_model_2/graph_conv_5/Reshape_11:0\", shape=(919,), dtype=int32), values=Tensor(\"gradient_tape/private__graph_conv_keras_model_2/graph_conv_5/Reshape_10:0\", shape=(919, 64), dtype=float32), dense_shape=Tensor(\"gradient_tape/private__graph_conv_keras_model_2/graph_conv_5/Cast:0\", shape=(2,), dtype=int32))) to a dense Tensor of unknown shape. This may consume a large amount of memory.\n",
      "  warnings.warn(\n",
      "/opt/anaconda3/envs/deepchem/lib/python3.8/site-packages/tensorflow/python/framework/indexed_slices.py:447: UserWarning: Converting sparse IndexedSlices(IndexedSlices(indices=Tensor(\"gradient_tape/private__graph_conv_keras_model_2/graph_conv_5/Reshape_13:0\", shape=(4318,), dtype=int32), values=Tensor(\"gradient_tape/private__graph_conv_keras_model_2/graph_conv_5/Reshape_12:0\", shape=(4318, 64), dtype=float32), dense_shape=Tensor(\"gradient_tape/private__graph_conv_keras_model_2/graph_conv_5/Cast_1:0\", shape=(2,), dtype=int32))) to a dense Tensor of unknown shape. This may consume a large amount of memory.\n",
      "  warnings.warn(\n",
      "/opt/anaconda3/envs/deepchem/lib/python3.8/site-packages/tensorflow/python/framework/indexed_slices.py:447: UserWarning: Converting sparse IndexedSlices(IndexedSlices(indices=Tensor(\"gradient_tape/private__graph_conv_keras_model_2/graph_conv_5/Reshape_15:0\", shape=(3891,), dtype=int32), values=Tensor(\"gradient_tape/private__graph_conv_keras_model_2/graph_conv_5/Reshape_14:0\", shape=(3891, 64), dtype=float32), dense_shape=Tensor(\"gradient_tape/private__graph_conv_keras_model_2/graph_conv_5/Cast_2:0\", shape=(2,), dtype=int32))) to a dense Tensor of unknown shape. This may consume a large amount of memory.\n",
      "  warnings.warn(\n",
      "/opt/anaconda3/envs/deepchem/lib/python3.8/site-packages/tensorflow/python/framework/indexed_slices.py:447: UserWarning: Converting sparse IndexedSlices(IndexedSlices(indices=Tensor(\"gradient_tape/private__graph_conv_keras_model_2/graph_conv_5/Reshape_17:0\", shape=(652,), dtype=int32), values=Tensor(\"gradient_tape/private__graph_conv_keras_model_2/graph_conv_5/Reshape_16:0\", shape=(652, 64), dtype=float32), dense_shape=Tensor(\"gradient_tape/private__graph_conv_keras_model_2/graph_conv_5/Cast_3:0\", shape=(2,), dtype=int32))) to a dense Tensor of unknown shape. This may consume a large amount of memory.\n",
      "  warnings.warn(\n",
      "/opt/anaconda3/envs/deepchem/lib/python3.8/site-packages/tensorflow/python/framework/indexed_slices.py:447: UserWarning: Converting sparse IndexedSlices(IndexedSlices(indices=Tensor(\"gradient_tape/private__graph_conv_keras_model_2/graph_conv_5/Reshape_19:0\", shape=(0,), dtype=int32), values=Tensor(\"gradient_tape/private__graph_conv_keras_model_2/graph_conv_5/Reshape_18:0\", shape=(0, 64), dtype=float32), dense_shape=Tensor(\"gradient_tape/private__graph_conv_keras_model_2/graph_conv_5/Cast_4:0\", shape=(2,), dtype=int32))) to a dense Tensor of unknown shape. This may consume a large amount of memory.\n",
      "  warnings.warn(\n",
      "/opt/anaconda3/envs/deepchem/lib/python3.8/site-packages/tensorflow/python/framework/indexed_slices.py:447: UserWarning: Converting sparse IndexedSlices(IndexedSlices(indices=Tensor(\"gradient_tape/private__graph_conv_keras_model_2/graph_conv_5/Reshape_21:0\", shape=(0,), dtype=int32), values=Tensor(\"gradient_tape/private__graph_conv_keras_model_2/graph_conv_5/Reshape_20:0\", shape=(0, 64), dtype=float32), dense_shape=Tensor(\"gradient_tape/private__graph_conv_keras_model_2/graph_conv_5/Cast_5:0\", shape=(2,), dtype=int32))) to a dense Tensor of unknown shape. This may consume a large amount of memory.\n",
      "  warnings.warn(\n",
      "/opt/anaconda3/envs/deepchem/lib/python3.8/site-packages/tensorflow/python/framework/indexed_slices.py:447: UserWarning: Converting sparse IndexedSlices(IndexedSlices(indices=Tensor(\"gradient_tape/private__graph_conv_keras_model_2/graph_conv_5/Reshape_23:0\", shape=(0,), dtype=int32), values=Tensor(\"gradient_tape/private__graph_conv_keras_model_2/graph_conv_5/Reshape_22:0\", shape=(0, 64), dtype=float32), dense_shape=Tensor(\"gradient_tape/private__graph_conv_keras_model_2/graph_conv_5/Cast_6:0\", shape=(2,), dtype=int32))) to a dense Tensor of unknown shape. This may consume a large amount of memory.\n",
      "  warnings.warn(\n",
      "/opt/anaconda3/envs/deepchem/lib/python3.8/site-packages/tensorflow/python/framework/indexed_slices.py:447: UserWarning: Converting sparse IndexedSlices(IndexedSlices(indices=Tensor(\"gradient_tape/private__graph_conv_keras_model_2/graph_conv_5/Reshape_25:0\", shape=(0,), dtype=int32), values=Tensor(\"gradient_tape/private__graph_conv_keras_model_2/graph_conv_5/Reshape_24:0\", shape=(0, 64), dtype=float32), dense_shape=Tensor(\"gradient_tape/private__graph_conv_keras_model_2/graph_conv_5/Cast_7:0\", shape=(2,), dtype=int32))) to a dense Tensor of unknown shape. This may consume a large amount of memory.\n",
      "  warnings.warn(\n",
      "/opt/anaconda3/envs/deepchem/lib/python3.8/site-packages/tensorflow/python/framework/indexed_slices.py:447: UserWarning: Converting sparse IndexedSlices(IndexedSlices(indices=Tensor(\"gradient_tape/private__graph_conv_keras_model_2/graph_conv_5/Reshape_27:0\", shape=(0,), dtype=int32), values=Tensor(\"gradient_tape/private__graph_conv_keras_model_2/graph_conv_5/Reshape_26:0\", shape=(0, 64), dtype=float32), dense_shape=Tensor(\"gradient_tape/private__graph_conv_keras_model_2/graph_conv_5/Cast_8:0\", shape=(2,), dtype=int32))) to a dense Tensor of unknown shape. This may consume a large amount of memory.\n",
      "  warnings.warn(\n",
      "/opt/anaconda3/envs/deepchem/lib/python3.8/site-packages/tensorflow/python/framework/indexed_slices.py:447: UserWarning: Converting sparse IndexedSlices(IndexedSlices(indices=Tensor(\"gradient_tape/private__graph_conv_keras_model_2/graph_conv_5/Reshape_29:0\", shape=(0,), dtype=int32), values=Tensor(\"gradient_tape/private__graph_conv_keras_model_2/graph_conv_5/Reshape_28:0\", shape=(0, 64), dtype=float32), dense_shape=Tensor(\"gradient_tape/private__graph_conv_keras_model_2/graph_conv_5/Cast_9:0\", shape=(2,), dtype=int32))) to a dense Tensor of unknown shape. This may consume a large amount of memory.\n",
      "  warnings.warn(\n"
     ]
    },
    {
     "name": "stderr",
     "output_type": "stream",
     "text": [
      "/opt/anaconda3/envs/deepchem/lib/python3.8/site-packages/tensorflow/python/framework/indexed_slices.py:447: UserWarning: Converting sparse IndexedSlices(IndexedSlices(indices=Tensor(\"gradient_tape/private__graph_conv_keras_model_2/graph_pool_4/Reshape_14:0\", shape=(919,), dtype=int32), values=Tensor(\"gradient_tape/private__graph_conv_keras_model_2/graph_pool_4/Reshape_13:0\", shape=(919, 64), dtype=float32), dense_shape=Tensor(\"gradient_tape/private__graph_conv_keras_model_2/graph_pool_4/Cast_4:0\", shape=(2,), dtype=int32))) to a dense Tensor of unknown shape. This may consume a large amount of memory.\n",
      "  warnings.warn(\n",
      "/opt/anaconda3/envs/deepchem/lib/python3.8/site-packages/tensorflow/python/framework/indexed_slices.py:447: UserWarning: Converting sparse IndexedSlices(IndexedSlices(indices=Tensor(\"gradient_tape/private__graph_conv_keras_model_2/graph_pool_4/Reshape_17:0\", shape=(4318,), dtype=int32), values=Tensor(\"gradient_tape/private__graph_conv_keras_model_2/graph_pool_4/Reshape_16:0\", shape=(4318, 64), dtype=float32), dense_shape=Tensor(\"gradient_tape/private__graph_conv_keras_model_2/graph_pool_4/Cast_5:0\", shape=(2,), dtype=int32))) to a dense Tensor of unknown shape. This may consume a large amount of memory.\n",
      "  warnings.warn(\n",
      "/opt/anaconda3/envs/deepchem/lib/python3.8/site-packages/tensorflow/python/framework/indexed_slices.py:447: UserWarning: Converting sparse IndexedSlices(IndexedSlices(indices=Tensor(\"gradient_tape/private__graph_conv_keras_model_2/graph_pool_4/Reshape_20:0\", shape=(3891,), dtype=int32), values=Tensor(\"gradient_tape/private__graph_conv_keras_model_2/graph_pool_4/Reshape_19:0\", shape=(3891, 64), dtype=float32), dense_shape=Tensor(\"gradient_tape/private__graph_conv_keras_model_2/graph_pool_4/Cast_6:0\", shape=(2,), dtype=int32))) to a dense Tensor of unknown shape. This may consume a large amount of memory.\n",
      "  warnings.warn(\n",
      "/opt/anaconda3/envs/deepchem/lib/python3.8/site-packages/tensorflow/python/framework/indexed_slices.py:447: UserWarning: Converting sparse IndexedSlices(IndexedSlices(indices=Tensor(\"gradient_tape/private__graph_conv_keras_model_2/graph_pool_4/Reshape_23:0\", shape=(652,), dtype=int32), values=Tensor(\"gradient_tape/private__graph_conv_keras_model_2/graph_pool_4/Reshape_22:0\", shape=(652, 64), dtype=float32), dense_shape=Tensor(\"gradient_tape/private__graph_conv_keras_model_2/graph_pool_4/Cast_7:0\", shape=(2,), dtype=int32))) to a dense Tensor of unknown shape. This may consume a large amount of memory.\n",
      "  warnings.warn(\n",
      "/opt/anaconda3/envs/deepchem/lib/python3.8/site-packages/tensorflow/python/framework/indexed_slices.py:447: UserWarning: Converting sparse IndexedSlices(IndexedSlices(indices=Tensor(\"gradient_tape/private__graph_conv_keras_model_2/graph_pool_5/Reshape_14:0\", shape=(848,), dtype=int32), values=Tensor(\"gradient_tape/private__graph_conv_keras_model_2/graph_pool_5/Reshape_13:0\", shape=(848, 64), dtype=float32), dense_shape=Tensor(\"gradient_tape/private__graph_conv_keras_model_2/graph_pool_5/Cast_4:0\", shape=(2,), dtype=int32))) to a dense Tensor of unknown shape. This may consume a large amount of memory.\n",
      "  warnings.warn(\n",
      "/opt/anaconda3/envs/deepchem/lib/python3.8/site-packages/tensorflow/python/framework/indexed_slices.py:447: UserWarning: Converting sparse IndexedSlices(IndexedSlices(indices=Tensor(\"gradient_tape/private__graph_conv_keras_model_2/graph_pool_5/Reshape_17:0\", shape=(4450,), dtype=int32), values=Tensor(\"gradient_tape/private__graph_conv_keras_model_2/graph_pool_5/Reshape_16:0\", shape=(4450, 64), dtype=float32), dense_shape=Tensor(\"gradient_tape/private__graph_conv_keras_model_2/graph_pool_5/Cast_5:0\", shape=(2,), dtype=int32))) to a dense Tensor of unknown shape. This may consume a large amount of memory.\n",
      "  warnings.warn(\n",
      "/opt/anaconda3/envs/deepchem/lib/python3.8/site-packages/tensorflow/python/framework/indexed_slices.py:447: UserWarning: Converting sparse IndexedSlices(IndexedSlices(indices=Tensor(\"gradient_tape/private__graph_conv_keras_model_2/graph_pool_5/Reshape_20:0\", shape=(3930,), dtype=int32), values=Tensor(\"gradient_tape/private__graph_conv_keras_model_2/graph_pool_5/Reshape_19:0\", shape=(3930, 64), dtype=float32), dense_shape=Tensor(\"gradient_tape/private__graph_conv_keras_model_2/graph_pool_5/Cast_6:0\", shape=(2,), dtype=int32))) to a dense Tensor of unknown shape. This may consume a large amount of memory.\n",
      "  warnings.warn(\n",
      "/opt/anaconda3/envs/deepchem/lib/python3.8/site-packages/tensorflow/python/framework/indexed_slices.py:447: UserWarning: Converting sparse IndexedSlices(IndexedSlices(indices=Tensor(\"gradient_tape/private__graph_conv_keras_model_2/graph_pool_5/Reshape_23:0\", shape=(564,), dtype=int32), values=Tensor(\"gradient_tape/private__graph_conv_keras_model_2/graph_pool_5/Reshape_22:0\", shape=(564, 64), dtype=float32), dense_shape=Tensor(\"gradient_tape/private__graph_conv_keras_model_2/graph_pool_5/Cast_7:0\", shape=(2,), dtype=int32))) to a dense Tensor of unknown shape. This may consume a large amount of memory.\n",
      "  warnings.warn(\n",
      "/opt/anaconda3/envs/deepchem/lib/python3.8/site-packages/tensorflow/python/framework/indexed_slices.py:447: UserWarning: Converting sparse IndexedSlices(IndexedSlices(indices=Tensor(\"gradient_tape/private__graph_conv_keras_model_2/graph_conv_5/Reshape_11:0\", shape=(848,), dtype=int32), values=Tensor(\"gradient_tape/private__graph_conv_keras_model_2/graph_conv_5/Reshape_10:0\", shape=(848, 64), dtype=float32), dense_shape=Tensor(\"gradient_tape/private__graph_conv_keras_model_2/graph_conv_5/Cast:0\", shape=(2,), dtype=int32))) to a dense Tensor of unknown shape. This may consume a large amount of memory.\n",
      "  warnings.warn(\n",
      "/opt/anaconda3/envs/deepchem/lib/python3.8/site-packages/tensorflow/python/framework/indexed_slices.py:447: UserWarning: Converting sparse IndexedSlices(IndexedSlices(indices=Tensor(\"gradient_tape/private__graph_conv_keras_model_2/graph_conv_5/Reshape_13:0\", shape=(4450,), dtype=int32), values=Tensor(\"gradient_tape/private__graph_conv_keras_model_2/graph_conv_5/Reshape_12:0\", shape=(4450, 64), dtype=float32), dense_shape=Tensor(\"gradient_tape/private__graph_conv_keras_model_2/graph_conv_5/Cast_1:0\", shape=(2,), dtype=int32))) to a dense Tensor of unknown shape. This may consume a large amount of memory.\n",
      "  warnings.warn(\n",
      "/opt/anaconda3/envs/deepchem/lib/python3.8/site-packages/tensorflow/python/framework/indexed_slices.py:447: UserWarning: Converting sparse IndexedSlices(IndexedSlices(indices=Tensor(\"gradient_tape/private__graph_conv_keras_model_2/graph_conv_5/Reshape_15:0\", shape=(3930,), dtype=int32), values=Tensor(\"gradient_tape/private__graph_conv_keras_model_2/graph_conv_5/Reshape_14:0\", shape=(3930, 64), dtype=float32), dense_shape=Tensor(\"gradient_tape/private__graph_conv_keras_model_2/graph_conv_5/Cast_2:0\", shape=(2,), dtype=int32))) to a dense Tensor of unknown shape. This may consume a large amount of memory.\n",
      "  warnings.warn(\n",
      "/opt/anaconda3/envs/deepchem/lib/python3.8/site-packages/tensorflow/python/framework/indexed_slices.py:447: UserWarning: Converting sparse IndexedSlices(IndexedSlices(indices=Tensor(\"gradient_tape/private__graph_conv_keras_model_2/graph_conv_5/Reshape_17:0\", shape=(564,), dtype=int32), values=Tensor(\"gradient_tape/private__graph_conv_keras_model_2/graph_conv_5/Reshape_16:0\", shape=(564, 64), dtype=float32), dense_shape=Tensor(\"gradient_tape/private__graph_conv_keras_model_2/graph_conv_5/Cast_3:0\", shape=(2,), dtype=int32))) to a dense Tensor of unknown shape. This may consume a large amount of memory.\n",
      "  warnings.warn(\n",
      "/opt/anaconda3/envs/deepchem/lib/python3.8/site-packages/tensorflow/python/framework/indexed_slices.py:447: UserWarning: Converting sparse IndexedSlices(IndexedSlices(indices=Tensor(\"gradient_tape/private__graph_conv_keras_model_2/graph_pool_4/Reshape_14:0\", shape=(848,), dtype=int32), values=Tensor(\"gradient_tape/private__graph_conv_keras_model_2/graph_pool_4/Reshape_13:0\", shape=(848, 64), dtype=float32), dense_shape=Tensor(\"gradient_tape/private__graph_conv_keras_model_2/graph_pool_4/Cast_4:0\", shape=(2,), dtype=int32))) to a dense Tensor of unknown shape. This may consume a large amount of memory.\n",
      "  warnings.warn(\n",
      "/opt/anaconda3/envs/deepchem/lib/python3.8/site-packages/tensorflow/python/framework/indexed_slices.py:447: UserWarning: Converting sparse IndexedSlices(IndexedSlices(indices=Tensor(\"gradient_tape/private__graph_conv_keras_model_2/graph_pool_4/Reshape_17:0\", shape=(4450,), dtype=int32), values=Tensor(\"gradient_tape/private__graph_conv_keras_model_2/graph_pool_4/Reshape_16:0\", shape=(4450, 64), dtype=float32), dense_shape=Tensor(\"gradient_tape/private__graph_conv_keras_model_2/graph_pool_4/Cast_5:0\", shape=(2,), dtype=int32))) to a dense Tensor of unknown shape. This may consume a large amount of memory.\n",
      "  warnings.warn(\n",
      "/opt/anaconda3/envs/deepchem/lib/python3.8/site-packages/tensorflow/python/framework/indexed_slices.py:447: UserWarning: Converting sparse IndexedSlices(IndexedSlices(indices=Tensor(\"gradient_tape/private__graph_conv_keras_model_2/graph_pool_4/Reshape_20:0\", shape=(3930,), dtype=int32), values=Tensor(\"gradient_tape/private__graph_conv_keras_model_2/graph_pool_4/Reshape_19:0\", shape=(3930, 64), dtype=float32), dense_shape=Tensor(\"gradient_tape/private__graph_conv_keras_model_2/graph_pool_4/Cast_6:0\", shape=(2,), dtype=int32))) to a dense Tensor of unknown shape. This may consume a large amount of memory.\n",
      "  warnings.warn(\n",
      "/opt/anaconda3/envs/deepchem/lib/python3.8/site-packages/tensorflow/python/framework/indexed_slices.py:447: UserWarning: Converting sparse IndexedSlices(IndexedSlices(indices=Tensor(\"gradient_tape/private__graph_conv_keras_model_2/graph_pool_4/Reshape_23:0\", shape=(564,), dtype=int32), values=Tensor(\"gradient_tape/private__graph_conv_keras_model_2/graph_pool_4/Reshape_22:0\", shape=(564, 64), dtype=float32), dense_shape=Tensor(\"gradient_tape/private__graph_conv_keras_model_2/graph_pool_4/Cast_7:0\", shape=(2,), dtype=int32))) to a dense Tensor of unknown shape. This may consume a large amount of memory.\n",
      "  warnings.warn(\n"
     ]
    },
    {
     "name": "stderr",
     "output_type": "stream",
     "text": [
      "/opt/anaconda3/envs/deepchem/lib/python3.8/site-packages/tensorflow/python/framework/indexed_slices.py:447: UserWarning: Converting sparse IndexedSlices(IndexedSlices(indices=Tensor(\"gradient_tape/private__graph_conv_keras_model_2/graph_pool_5/Reshape_14:0\", shape=(None,), dtype=int32), values=Tensor(\"gradient_tape/private__graph_conv_keras_model_2/graph_pool_5/Reshape_13:0\", shape=(None, 64), dtype=float32), dense_shape=Tensor(\"gradient_tape/private__graph_conv_keras_model_2/graph_pool_5/Cast_4:0\", shape=(2,), dtype=int32))) to a dense Tensor of unknown shape. This may consume a large amount of memory.\n",
      "  warnings.warn(\n",
      "/opt/anaconda3/envs/deepchem/lib/python3.8/site-packages/tensorflow/python/framework/indexed_slices.py:447: UserWarning: Converting sparse IndexedSlices(IndexedSlices(indices=Tensor(\"gradient_tape/private__graph_conv_keras_model_2/graph_pool_5/Reshape_17:0\", shape=(None,), dtype=int32), values=Tensor(\"gradient_tape/private__graph_conv_keras_model_2/graph_pool_5/Reshape_16:0\", shape=(None, 64), dtype=float32), dense_shape=Tensor(\"gradient_tape/private__graph_conv_keras_model_2/graph_pool_5/Cast_5:0\", shape=(2,), dtype=int32))) to a dense Tensor of unknown shape. This may consume a large amount of memory.\n",
      "  warnings.warn(\n",
      "/opt/anaconda3/envs/deepchem/lib/python3.8/site-packages/tensorflow/python/framework/indexed_slices.py:447: UserWarning: Converting sparse IndexedSlices(IndexedSlices(indices=Tensor(\"gradient_tape/private__graph_conv_keras_model_2/graph_pool_5/Reshape_20:0\", shape=(None,), dtype=int32), values=Tensor(\"gradient_tape/private__graph_conv_keras_model_2/graph_pool_5/Reshape_19:0\", shape=(None, 64), dtype=float32), dense_shape=Tensor(\"gradient_tape/private__graph_conv_keras_model_2/graph_pool_5/Cast_6:0\", shape=(2,), dtype=int32))) to a dense Tensor of unknown shape. This may consume a large amount of memory.\n",
      "  warnings.warn(\n",
      "/opt/anaconda3/envs/deepchem/lib/python3.8/site-packages/tensorflow/python/framework/indexed_slices.py:447: UserWarning: Converting sparse IndexedSlices(IndexedSlices(indices=Tensor(\"gradient_tape/private__graph_conv_keras_model_2/graph_pool_5/Reshape_23:0\", shape=(None,), dtype=int32), values=Tensor(\"gradient_tape/private__graph_conv_keras_model_2/graph_pool_5/Reshape_22:0\", shape=(None, 64), dtype=float32), dense_shape=Tensor(\"gradient_tape/private__graph_conv_keras_model_2/graph_pool_5/Cast_7:0\", shape=(2,), dtype=int32))) to a dense Tensor of unknown shape. This may consume a large amount of memory.\n",
      "  warnings.warn(\n",
      "/opt/anaconda3/envs/deepchem/lib/python3.8/site-packages/tensorflow/python/framework/indexed_slices.py:447: UserWarning: Converting sparse IndexedSlices(IndexedSlices(indices=Tensor(\"gradient_tape/private__graph_conv_keras_model_2/graph_conv_5/Reshape_11:0\", shape=(None,), dtype=int32), values=Tensor(\"gradient_tape/private__graph_conv_keras_model_2/graph_conv_5/Reshape_10:0\", shape=(None, 64), dtype=float32), dense_shape=Tensor(\"gradient_tape/private__graph_conv_keras_model_2/graph_conv_5/Cast:0\", shape=(2,), dtype=int32))) to a dense Tensor of unknown shape. This may consume a large amount of memory.\n",
      "  warnings.warn(\n",
      "/opt/anaconda3/envs/deepchem/lib/python3.8/site-packages/tensorflow/python/framework/indexed_slices.py:447: UserWarning: Converting sparse IndexedSlices(IndexedSlices(indices=Tensor(\"gradient_tape/private__graph_conv_keras_model_2/graph_conv_5/Reshape_13:0\", shape=(None,), dtype=int32), values=Tensor(\"gradient_tape/private__graph_conv_keras_model_2/graph_conv_5/Reshape_12:0\", shape=(None, 64), dtype=float32), dense_shape=Tensor(\"gradient_tape/private__graph_conv_keras_model_2/graph_conv_5/Cast_1:0\", shape=(2,), dtype=int32))) to a dense Tensor of unknown shape. This may consume a large amount of memory.\n",
      "  warnings.warn(\n",
      "/opt/anaconda3/envs/deepchem/lib/python3.8/site-packages/tensorflow/python/framework/indexed_slices.py:447: UserWarning: Converting sparse IndexedSlices(IndexedSlices(indices=Tensor(\"gradient_tape/private__graph_conv_keras_model_2/graph_conv_5/Reshape_15:0\", shape=(None,), dtype=int32), values=Tensor(\"gradient_tape/private__graph_conv_keras_model_2/graph_conv_5/Reshape_14:0\", shape=(None, 64), dtype=float32), dense_shape=Tensor(\"gradient_tape/private__graph_conv_keras_model_2/graph_conv_5/Cast_2:0\", shape=(2,), dtype=int32))) to a dense Tensor of unknown shape. This may consume a large amount of memory.\n",
      "  warnings.warn(\n",
      "/opt/anaconda3/envs/deepchem/lib/python3.8/site-packages/tensorflow/python/framework/indexed_slices.py:447: UserWarning: Converting sparse IndexedSlices(IndexedSlices(indices=Tensor(\"gradient_tape/private__graph_conv_keras_model_2/graph_conv_5/Reshape_17:0\", shape=(None,), dtype=int32), values=Tensor(\"gradient_tape/private__graph_conv_keras_model_2/graph_conv_5/Reshape_16:0\", shape=(None, 64), dtype=float32), dense_shape=Tensor(\"gradient_tape/private__graph_conv_keras_model_2/graph_conv_5/Cast_3:0\", shape=(2,), dtype=int32))) to a dense Tensor of unknown shape. This may consume a large amount of memory.\n",
      "  warnings.warn(\n",
      "/opt/anaconda3/envs/deepchem/lib/python3.8/site-packages/tensorflow/python/framework/indexed_slices.py:447: UserWarning: Converting sparse IndexedSlices(IndexedSlices(indices=Tensor(\"gradient_tape/private__graph_conv_keras_model_2/graph_pool_4/Reshape_14:0\", shape=(None,), dtype=int32), values=Tensor(\"gradient_tape/private__graph_conv_keras_model_2/graph_pool_4/Reshape_13:0\", shape=(None, 64), dtype=float32), dense_shape=Tensor(\"gradient_tape/private__graph_conv_keras_model_2/graph_pool_4/Cast_4:0\", shape=(2,), dtype=int32))) to a dense Tensor of unknown shape. This may consume a large amount of memory.\n",
      "  warnings.warn(\n",
      "/opt/anaconda3/envs/deepchem/lib/python3.8/site-packages/tensorflow/python/framework/indexed_slices.py:447: UserWarning: Converting sparse IndexedSlices(IndexedSlices(indices=Tensor(\"gradient_tape/private__graph_conv_keras_model_2/graph_pool_4/Reshape_17:0\", shape=(None,), dtype=int32), values=Tensor(\"gradient_tape/private__graph_conv_keras_model_2/graph_pool_4/Reshape_16:0\", shape=(None, 64), dtype=float32), dense_shape=Tensor(\"gradient_tape/private__graph_conv_keras_model_2/graph_pool_4/Cast_5:0\", shape=(2,), dtype=int32))) to a dense Tensor of unknown shape. This may consume a large amount of memory.\n",
      "  warnings.warn(\n",
      "/opt/anaconda3/envs/deepchem/lib/python3.8/site-packages/tensorflow/python/framework/indexed_slices.py:447: UserWarning: Converting sparse IndexedSlices(IndexedSlices(indices=Tensor(\"gradient_tape/private__graph_conv_keras_model_2/graph_pool_4/Reshape_20:0\", shape=(None,), dtype=int32), values=Tensor(\"gradient_tape/private__graph_conv_keras_model_2/graph_pool_4/Reshape_19:0\", shape=(None, 64), dtype=float32), dense_shape=Tensor(\"gradient_tape/private__graph_conv_keras_model_2/graph_pool_4/Cast_6:0\", shape=(2,), dtype=int32))) to a dense Tensor of unknown shape. This may consume a large amount of memory.\n",
      "  warnings.warn(\n",
      "/opt/anaconda3/envs/deepchem/lib/python3.8/site-packages/tensorflow/python/framework/indexed_slices.py:447: UserWarning: Converting sparse IndexedSlices(IndexedSlices(indices=Tensor(\"gradient_tape/private__graph_conv_keras_model_2/graph_pool_4/Reshape_23:0\", shape=(None,), dtype=int32), values=Tensor(\"gradient_tape/private__graph_conv_keras_model_2/graph_pool_4/Reshape_22:0\", shape=(None, 64), dtype=float32), dense_shape=Tensor(\"gradient_tape/private__graph_conv_keras_model_2/graph_pool_4/Cast_7:0\", shape=(2,), dtype=int32))) to a dense Tensor of unknown shape. This may consume a large amount of memory.\n",
      "  warnings.warn(\n"
     ]
    },
    {
     "data": {
      "text/plain": [
       "0.03212337017059326"
      ]
     },
     "execution_count": 46,
     "metadata": {},
     "output_type": "execute_result"
    }
   ],
   "source": [
    "# Fit trained model\n",
    "model.fit(train_dataset, nb_epoch=100)"
   ]
  },
  {
   "cell_type": "code",
   "execution_count": 47,
   "metadata": {},
   "outputs": [
    {
     "name": "stdout",
     "output_type": "stream",
     "text": [
      "Evaluating model\n",
      "training set score: {'mean-pearson_r2_score': 0.9458961165826169}\n",
      "validation set score: {'mean-pearson_r2_score': 0.0022668726183954326}\n",
      "test set score: {'mean-pearson_r2_score': 0.15455300321141655}\n"
     ]
    }
   ],
   "source": [
    "print(\"Evaluating model\")\n",
    "train_scores = model.evaluate(train_dataset, [metric], transformers)\n",
    "valid_scores = model.evaluate(valid_dataset, [metric], transformers)\n",
    "test_scores = model.evaluate(test_dataset, [metric], transformers)\n",
    "\n",
    "print('training set score:', model.evaluate(train_dataset, [metric]))\n",
    "print('validation set score:', model.evaluate(valid_dataset, [metric]))\n",
    "print('test set score:', model.evaluate(test_dataset, [metric]))"
   ]
  },
  {
   "cell_type": "markdown",
   "metadata": {},
   "source": [
    "# method 5"
   ]
  },
  {
   "cell_type": "code",
   "execution_count": 48,
   "metadata": {},
   "outputs": [],
   "source": [
    "import numpy as np\n",
    "from deepchem.models import GraphConvModel\n",
    "import tensorflow as tf\n",
    "import deepchem as dc\n",
    "from deepchem.molnet import load_bace_regression"
   ]
  },
  {
   "cell_type": "code",
   "execution_count": 49,
   "metadata": {},
   "outputs": [],
   "source": [
    "# Load bace dataset\n",
    "bace_tasks, bace_datasets, transformers = load_bace_regression(\n",
    "    featurizer='GraphConv', splitter='random')\n",
    "train_dataset, valid_dataset, test_dataset = bace_datasets\n",
    "\n",
    "# Fit models\n",
    "metric = dc.metrics.Metric(dc.metrics.pearson_r2_score, np.mean)\n",
    "\n",
    "# Do setup required for tf/keras models\n",
    "# Number of features on conv-mols\n",
    "n_feat = 75\n",
    "# Batch size of models\n",
    "batch_size = 128\n",
    "model = GraphConvModel(\n",
    "    len(bace_tasks), batch_size=batch_size, mode='regression')"
   ]
  },
  {
   "cell_type": "code",
   "execution_count": 50,
   "metadata": {},
   "outputs": [
    {
     "name": "stderr",
     "output_type": "stream",
     "text": [
      "/opt/anaconda3/envs/deepchem/lib/python3.8/site-packages/tensorflow/python/framework/indexed_slices.py:447: UserWarning: Converting sparse IndexedSlices(IndexedSlices(indices=Tensor(\"gradient_tape/private__graph_conv_keras_model_3/graph_pool_7/Reshape_14:0\", shape=(861,), dtype=int32), values=Tensor(\"gradient_tape/private__graph_conv_keras_model_3/graph_pool_7/Reshape_13:0\", shape=(861, 64), dtype=float32), dense_shape=Tensor(\"gradient_tape/private__graph_conv_keras_model_3/graph_pool_7/Cast_4:0\", shape=(2,), dtype=int32))) to a dense Tensor of unknown shape. This may consume a large amount of memory.\n",
      "  warnings.warn(\n",
      "/opt/anaconda3/envs/deepchem/lib/python3.8/site-packages/tensorflow/python/framework/indexed_slices.py:447: UserWarning: Converting sparse IndexedSlices(IndexedSlices(indices=Tensor(\"gradient_tape/private__graph_conv_keras_model_3/graph_pool_7/Reshape_17:0\", shape=(4256,), dtype=int32), values=Tensor(\"gradient_tape/private__graph_conv_keras_model_3/graph_pool_7/Reshape_16:0\", shape=(4256, 64), dtype=float32), dense_shape=Tensor(\"gradient_tape/private__graph_conv_keras_model_3/graph_pool_7/Cast_5:0\", shape=(2,), dtype=int32))) to a dense Tensor of unknown shape. This may consume a large amount of memory.\n",
      "  warnings.warn(\n",
      "/opt/anaconda3/envs/deepchem/lib/python3.8/site-packages/tensorflow/python/framework/indexed_slices.py:447: UserWarning: Converting sparse IndexedSlices(IndexedSlices(indices=Tensor(\"gradient_tape/private__graph_conv_keras_model_3/graph_pool_7/Reshape_20:0\", shape=(3807,), dtype=int32), values=Tensor(\"gradient_tape/private__graph_conv_keras_model_3/graph_pool_7/Reshape_19:0\", shape=(3807, 64), dtype=float32), dense_shape=Tensor(\"gradient_tape/private__graph_conv_keras_model_3/graph_pool_7/Cast_6:0\", shape=(2,), dtype=int32))) to a dense Tensor of unknown shape. This may consume a large amount of memory.\n",
      "  warnings.warn(\n",
      "/opt/anaconda3/envs/deepchem/lib/python3.8/site-packages/tensorflow/python/framework/indexed_slices.py:447: UserWarning: Converting sparse IndexedSlices(IndexedSlices(indices=Tensor(\"gradient_tape/private__graph_conv_keras_model_3/graph_pool_7/Reshape_23:0\", shape=(572,), dtype=int32), values=Tensor(\"gradient_tape/private__graph_conv_keras_model_3/graph_pool_7/Reshape_22:0\", shape=(572, 64), dtype=float32), dense_shape=Tensor(\"gradient_tape/private__graph_conv_keras_model_3/graph_pool_7/Cast_7:0\", shape=(2,), dtype=int32))) to a dense Tensor of unknown shape. This may consume a large amount of memory.\n",
      "  warnings.warn(\n",
      "/opt/anaconda3/envs/deepchem/lib/python3.8/site-packages/tensorflow/python/framework/indexed_slices.py:447: UserWarning: Converting sparse IndexedSlices(IndexedSlices(indices=Tensor(\"gradient_tape/private__graph_conv_keras_model_3/graph_conv_7/Reshape_11:0\", shape=(861,), dtype=int32), values=Tensor(\"gradient_tape/private__graph_conv_keras_model_3/graph_conv_7/Reshape_10:0\", shape=(861, 64), dtype=float32), dense_shape=Tensor(\"gradient_tape/private__graph_conv_keras_model_3/graph_conv_7/Cast:0\", shape=(2,), dtype=int32))) to a dense Tensor of unknown shape. This may consume a large amount of memory.\n",
      "  warnings.warn(\n",
      "/opt/anaconda3/envs/deepchem/lib/python3.8/site-packages/tensorflow/python/framework/indexed_slices.py:447: UserWarning: Converting sparse IndexedSlices(IndexedSlices(indices=Tensor(\"gradient_tape/private__graph_conv_keras_model_3/graph_conv_7/Reshape_13:0\", shape=(4256,), dtype=int32), values=Tensor(\"gradient_tape/private__graph_conv_keras_model_3/graph_conv_7/Reshape_12:0\", shape=(4256, 64), dtype=float32), dense_shape=Tensor(\"gradient_tape/private__graph_conv_keras_model_3/graph_conv_7/Cast_1:0\", shape=(2,), dtype=int32))) to a dense Tensor of unknown shape. This may consume a large amount of memory.\n",
      "  warnings.warn(\n",
      "/opt/anaconda3/envs/deepchem/lib/python3.8/site-packages/tensorflow/python/framework/indexed_slices.py:447: UserWarning: Converting sparse IndexedSlices(IndexedSlices(indices=Tensor(\"gradient_tape/private__graph_conv_keras_model_3/graph_conv_7/Reshape_15:0\", shape=(3807,), dtype=int32), values=Tensor(\"gradient_tape/private__graph_conv_keras_model_3/graph_conv_7/Reshape_14:0\", shape=(3807, 64), dtype=float32), dense_shape=Tensor(\"gradient_tape/private__graph_conv_keras_model_3/graph_conv_7/Cast_2:0\", shape=(2,), dtype=int32))) to a dense Tensor of unknown shape. This may consume a large amount of memory.\n",
      "  warnings.warn(\n",
      "/opt/anaconda3/envs/deepchem/lib/python3.8/site-packages/tensorflow/python/framework/indexed_slices.py:447: UserWarning: Converting sparse IndexedSlices(IndexedSlices(indices=Tensor(\"gradient_tape/private__graph_conv_keras_model_3/graph_conv_7/Reshape_17:0\", shape=(572,), dtype=int32), values=Tensor(\"gradient_tape/private__graph_conv_keras_model_3/graph_conv_7/Reshape_16:0\", shape=(572, 64), dtype=float32), dense_shape=Tensor(\"gradient_tape/private__graph_conv_keras_model_3/graph_conv_7/Cast_3:0\", shape=(2,), dtype=int32))) to a dense Tensor of unknown shape. This may consume a large amount of memory.\n",
      "  warnings.warn(\n",
      "/opt/anaconda3/envs/deepchem/lib/python3.8/site-packages/tensorflow/python/framework/indexed_slices.py:447: UserWarning: Converting sparse IndexedSlices(IndexedSlices(indices=Tensor(\"gradient_tape/private__graph_conv_keras_model_3/graph_conv_7/Reshape_19:0\", shape=(0,), dtype=int32), values=Tensor(\"gradient_tape/private__graph_conv_keras_model_3/graph_conv_7/Reshape_18:0\", shape=(0, 64), dtype=float32), dense_shape=Tensor(\"gradient_tape/private__graph_conv_keras_model_3/graph_conv_7/Cast_4:0\", shape=(2,), dtype=int32))) to a dense Tensor of unknown shape. This may consume a large amount of memory.\n",
      "  warnings.warn(\n",
      "/opt/anaconda3/envs/deepchem/lib/python3.8/site-packages/tensorflow/python/framework/indexed_slices.py:447: UserWarning: Converting sparse IndexedSlices(IndexedSlices(indices=Tensor(\"gradient_tape/private__graph_conv_keras_model_3/graph_conv_7/Reshape_21:0\", shape=(0,), dtype=int32), values=Tensor(\"gradient_tape/private__graph_conv_keras_model_3/graph_conv_7/Reshape_20:0\", shape=(0, 64), dtype=float32), dense_shape=Tensor(\"gradient_tape/private__graph_conv_keras_model_3/graph_conv_7/Cast_5:0\", shape=(2,), dtype=int32))) to a dense Tensor of unknown shape. This may consume a large amount of memory.\n",
      "  warnings.warn(\n",
      "/opt/anaconda3/envs/deepchem/lib/python3.8/site-packages/tensorflow/python/framework/indexed_slices.py:447: UserWarning: Converting sparse IndexedSlices(IndexedSlices(indices=Tensor(\"gradient_tape/private__graph_conv_keras_model_3/graph_conv_7/Reshape_23:0\", shape=(0,), dtype=int32), values=Tensor(\"gradient_tape/private__graph_conv_keras_model_3/graph_conv_7/Reshape_22:0\", shape=(0, 64), dtype=float32), dense_shape=Tensor(\"gradient_tape/private__graph_conv_keras_model_3/graph_conv_7/Cast_6:0\", shape=(2,), dtype=int32))) to a dense Tensor of unknown shape. This may consume a large amount of memory.\n",
      "  warnings.warn(\n",
      "/opt/anaconda3/envs/deepchem/lib/python3.8/site-packages/tensorflow/python/framework/indexed_slices.py:447: UserWarning: Converting sparse IndexedSlices(IndexedSlices(indices=Tensor(\"gradient_tape/private__graph_conv_keras_model_3/graph_conv_7/Reshape_25:0\", shape=(0,), dtype=int32), values=Tensor(\"gradient_tape/private__graph_conv_keras_model_3/graph_conv_7/Reshape_24:0\", shape=(0, 64), dtype=float32), dense_shape=Tensor(\"gradient_tape/private__graph_conv_keras_model_3/graph_conv_7/Cast_7:0\", shape=(2,), dtype=int32))) to a dense Tensor of unknown shape. This may consume a large amount of memory.\n",
      "  warnings.warn(\n",
      "/opt/anaconda3/envs/deepchem/lib/python3.8/site-packages/tensorflow/python/framework/indexed_slices.py:447: UserWarning: Converting sparse IndexedSlices(IndexedSlices(indices=Tensor(\"gradient_tape/private__graph_conv_keras_model_3/graph_conv_7/Reshape_27:0\", shape=(0,), dtype=int32), values=Tensor(\"gradient_tape/private__graph_conv_keras_model_3/graph_conv_7/Reshape_26:0\", shape=(0, 64), dtype=float32), dense_shape=Tensor(\"gradient_tape/private__graph_conv_keras_model_3/graph_conv_7/Cast_8:0\", shape=(2,), dtype=int32))) to a dense Tensor of unknown shape. This may consume a large amount of memory.\n",
      "  warnings.warn(\n",
      "/opt/anaconda3/envs/deepchem/lib/python3.8/site-packages/tensorflow/python/framework/indexed_slices.py:447: UserWarning: Converting sparse IndexedSlices(IndexedSlices(indices=Tensor(\"gradient_tape/private__graph_conv_keras_model_3/graph_conv_7/Reshape_29:0\", shape=(0,), dtype=int32), values=Tensor(\"gradient_tape/private__graph_conv_keras_model_3/graph_conv_7/Reshape_28:0\", shape=(0, 64), dtype=float32), dense_shape=Tensor(\"gradient_tape/private__graph_conv_keras_model_3/graph_conv_7/Cast_9:0\", shape=(2,), dtype=int32))) to a dense Tensor of unknown shape. This may consume a large amount of memory.\n",
      "  warnings.warn(\n"
     ]
    },
    {
     "name": "stderr",
     "output_type": "stream",
     "text": [
      "/opt/anaconda3/envs/deepchem/lib/python3.8/site-packages/tensorflow/python/framework/indexed_slices.py:447: UserWarning: Converting sparse IndexedSlices(IndexedSlices(indices=Tensor(\"gradient_tape/private__graph_conv_keras_model_3/graph_pool_6/Reshape_14:0\", shape=(861,), dtype=int32), values=Tensor(\"gradient_tape/private__graph_conv_keras_model_3/graph_pool_6/Reshape_13:0\", shape=(861, 64), dtype=float32), dense_shape=Tensor(\"gradient_tape/private__graph_conv_keras_model_3/graph_pool_6/Cast_4:0\", shape=(2,), dtype=int32))) to a dense Tensor of unknown shape. This may consume a large amount of memory.\n",
      "  warnings.warn(\n",
      "/opt/anaconda3/envs/deepchem/lib/python3.8/site-packages/tensorflow/python/framework/indexed_slices.py:447: UserWarning: Converting sparse IndexedSlices(IndexedSlices(indices=Tensor(\"gradient_tape/private__graph_conv_keras_model_3/graph_pool_6/Reshape_17:0\", shape=(4256,), dtype=int32), values=Tensor(\"gradient_tape/private__graph_conv_keras_model_3/graph_pool_6/Reshape_16:0\", shape=(4256, 64), dtype=float32), dense_shape=Tensor(\"gradient_tape/private__graph_conv_keras_model_3/graph_pool_6/Cast_5:0\", shape=(2,), dtype=int32))) to a dense Tensor of unknown shape. This may consume a large amount of memory.\n",
      "  warnings.warn(\n",
      "/opt/anaconda3/envs/deepchem/lib/python3.8/site-packages/tensorflow/python/framework/indexed_slices.py:447: UserWarning: Converting sparse IndexedSlices(IndexedSlices(indices=Tensor(\"gradient_tape/private__graph_conv_keras_model_3/graph_pool_6/Reshape_20:0\", shape=(3807,), dtype=int32), values=Tensor(\"gradient_tape/private__graph_conv_keras_model_3/graph_pool_6/Reshape_19:0\", shape=(3807, 64), dtype=float32), dense_shape=Tensor(\"gradient_tape/private__graph_conv_keras_model_3/graph_pool_6/Cast_6:0\", shape=(2,), dtype=int32))) to a dense Tensor of unknown shape. This may consume a large amount of memory.\n",
      "  warnings.warn(\n",
      "/opt/anaconda3/envs/deepchem/lib/python3.8/site-packages/tensorflow/python/framework/indexed_slices.py:447: UserWarning: Converting sparse IndexedSlices(IndexedSlices(indices=Tensor(\"gradient_tape/private__graph_conv_keras_model_3/graph_pool_6/Reshape_23:0\", shape=(572,), dtype=int32), values=Tensor(\"gradient_tape/private__graph_conv_keras_model_3/graph_pool_6/Reshape_22:0\", shape=(572, 64), dtype=float32), dense_shape=Tensor(\"gradient_tape/private__graph_conv_keras_model_3/graph_pool_6/Cast_7:0\", shape=(2,), dtype=int32))) to a dense Tensor of unknown shape. This may consume a large amount of memory.\n",
      "  warnings.warn(\n",
      "/opt/anaconda3/envs/deepchem/lib/python3.8/site-packages/tensorflow/python/framework/indexed_slices.py:447: UserWarning: Converting sparse IndexedSlices(IndexedSlices(indices=Tensor(\"gradient_tape/private__graph_conv_keras_model_3/graph_pool_7/Reshape_14:0\", shape=(860,), dtype=int32), values=Tensor(\"gradient_tape/private__graph_conv_keras_model_3/graph_pool_7/Reshape_13:0\", shape=(860, 64), dtype=float32), dense_shape=Tensor(\"gradient_tape/private__graph_conv_keras_model_3/graph_pool_7/Cast_4:0\", shape=(2,), dtype=int32))) to a dense Tensor of unknown shape. This may consume a large amount of memory.\n",
      "  warnings.warn(\n",
      "/opt/anaconda3/envs/deepchem/lib/python3.8/site-packages/tensorflow/python/framework/indexed_slices.py:447: UserWarning: Converting sparse IndexedSlices(IndexedSlices(indices=Tensor(\"gradient_tape/private__graph_conv_keras_model_3/graph_pool_7/Reshape_17:0\", shape=(4254,), dtype=int32), values=Tensor(\"gradient_tape/private__graph_conv_keras_model_3/graph_pool_7/Reshape_16:0\", shape=(4254, 64), dtype=float32), dense_shape=Tensor(\"gradient_tape/private__graph_conv_keras_model_3/graph_pool_7/Cast_5:0\", shape=(2,), dtype=int32))) to a dense Tensor of unknown shape. This may consume a large amount of memory.\n",
      "  warnings.warn(\n",
      "/opt/anaconda3/envs/deepchem/lib/python3.8/site-packages/tensorflow/python/framework/indexed_slices.py:447: UserWarning: Converting sparse IndexedSlices(IndexedSlices(indices=Tensor(\"gradient_tape/private__graph_conv_keras_model_3/graph_pool_7/Reshape_20:0\", shape=(3774,), dtype=int32), values=Tensor(\"gradient_tape/private__graph_conv_keras_model_3/graph_pool_7/Reshape_19:0\", shape=(3774, 64), dtype=float32), dense_shape=Tensor(\"gradient_tape/private__graph_conv_keras_model_3/graph_pool_7/Cast_6:0\", shape=(2,), dtype=int32))) to a dense Tensor of unknown shape. This may consume a large amount of memory.\n",
      "  warnings.warn(\n",
      "/opt/anaconda3/envs/deepchem/lib/python3.8/site-packages/tensorflow/python/framework/indexed_slices.py:447: UserWarning: Converting sparse IndexedSlices(IndexedSlices(indices=Tensor(\"gradient_tape/private__graph_conv_keras_model_3/graph_pool_7/Reshape_23:0\", shape=(652,), dtype=int32), values=Tensor(\"gradient_tape/private__graph_conv_keras_model_3/graph_pool_7/Reshape_22:0\", shape=(652, 64), dtype=float32), dense_shape=Tensor(\"gradient_tape/private__graph_conv_keras_model_3/graph_pool_7/Cast_7:0\", shape=(2,), dtype=int32))) to a dense Tensor of unknown shape. This may consume a large amount of memory.\n",
      "  warnings.warn(\n",
      "/opt/anaconda3/envs/deepchem/lib/python3.8/site-packages/tensorflow/python/framework/indexed_slices.py:447: UserWarning: Converting sparse IndexedSlices(IndexedSlices(indices=Tensor(\"gradient_tape/private__graph_conv_keras_model_3/graph_conv_7/Reshape_11:0\", shape=(860,), dtype=int32), values=Tensor(\"gradient_tape/private__graph_conv_keras_model_3/graph_conv_7/Reshape_10:0\", shape=(860, 64), dtype=float32), dense_shape=Tensor(\"gradient_tape/private__graph_conv_keras_model_3/graph_conv_7/Cast:0\", shape=(2,), dtype=int32))) to a dense Tensor of unknown shape. This may consume a large amount of memory.\n",
      "  warnings.warn(\n",
      "/opt/anaconda3/envs/deepchem/lib/python3.8/site-packages/tensorflow/python/framework/indexed_slices.py:447: UserWarning: Converting sparse IndexedSlices(IndexedSlices(indices=Tensor(\"gradient_tape/private__graph_conv_keras_model_3/graph_conv_7/Reshape_13:0\", shape=(4254,), dtype=int32), values=Tensor(\"gradient_tape/private__graph_conv_keras_model_3/graph_conv_7/Reshape_12:0\", shape=(4254, 64), dtype=float32), dense_shape=Tensor(\"gradient_tape/private__graph_conv_keras_model_3/graph_conv_7/Cast_1:0\", shape=(2,), dtype=int32))) to a dense Tensor of unknown shape. This may consume a large amount of memory.\n",
      "  warnings.warn(\n",
      "/opt/anaconda3/envs/deepchem/lib/python3.8/site-packages/tensorflow/python/framework/indexed_slices.py:447: UserWarning: Converting sparse IndexedSlices(IndexedSlices(indices=Tensor(\"gradient_tape/private__graph_conv_keras_model_3/graph_conv_7/Reshape_15:0\", shape=(3774,), dtype=int32), values=Tensor(\"gradient_tape/private__graph_conv_keras_model_3/graph_conv_7/Reshape_14:0\", shape=(3774, 64), dtype=float32), dense_shape=Tensor(\"gradient_tape/private__graph_conv_keras_model_3/graph_conv_7/Cast_2:0\", shape=(2,), dtype=int32))) to a dense Tensor of unknown shape. This may consume a large amount of memory.\n",
      "  warnings.warn(\n",
      "/opt/anaconda3/envs/deepchem/lib/python3.8/site-packages/tensorflow/python/framework/indexed_slices.py:447: UserWarning: Converting sparse IndexedSlices(IndexedSlices(indices=Tensor(\"gradient_tape/private__graph_conv_keras_model_3/graph_conv_7/Reshape_17:0\", shape=(652,), dtype=int32), values=Tensor(\"gradient_tape/private__graph_conv_keras_model_3/graph_conv_7/Reshape_16:0\", shape=(652, 64), dtype=float32), dense_shape=Tensor(\"gradient_tape/private__graph_conv_keras_model_3/graph_conv_7/Cast_3:0\", shape=(2,), dtype=int32))) to a dense Tensor of unknown shape. This may consume a large amount of memory.\n",
      "  warnings.warn(\n",
      "/opt/anaconda3/envs/deepchem/lib/python3.8/site-packages/tensorflow/python/framework/indexed_slices.py:447: UserWarning: Converting sparse IndexedSlices(IndexedSlices(indices=Tensor(\"gradient_tape/private__graph_conv_keras_model_3/graph_pool_6/Reshape_14:0\", shape=(860,), dtype=int32), values=Tensor(\"gradient_tape/private__graph_conv_keras_model_3/graph_pool_6/Reshape_13:0\", shape=(860, 64), dtype=float32), dense_shape=Tensor(\"gradient_tape/private__graph_conv_keras_model_3/graph_pool_6/Cast_4:0\", shape=(2,), dtype=int32))) to a dense Tensor of unknown shape. This may consume a large amount of memory.\n",
      "  warnings.warn(\n",
      "/opt/anaconda3/envs/deepchem/lib/python3.8/site-packages/tensorflow/python/framework/indexed_slices.py:447: UserWarning: Converting sparse IndexedSlices(IndexedSlices(indices=Tensor(\"gradient_tape/private__graph_conv_keras_model_3/graph_pool_6/Reshape_17:0\", shape=(4254,), dtype=int32), values=Tensor(\"gradient_tape/private__graph_conv_keras_model_3/graph_pool_6/Reshape_16:0\", shape=(4254, 64), dtype=float32), dense_shape=Tensor(\"gradient_tape/private__graph_conv_keras_model_3/graph_pool_6/Cast_5:0\", shape=(2,), dtype=int32))) to a dense Tensor of unknown shape. This may consume a large amount of memory.\n",
      "  warnings.warn(\n",
      "/opt/anaconda3/envs/deepchem/lib/python3.8/site-packages/tensorflow/python/framework/indexed_slices.py:447: UserWarning: Converting sparse IndexedSlices(IndexedSlices(indices=Tensor(\"gradient_tape/private__graph_conv_keras_model_3/graph_pool_6/Reshape_20:0\", shape=(3774,), dtype=int32), values=Tensor(\"gradient_tape/private__graph_conv_keras_model_3/graph_pool_6/Reshape_19:0\", shape=(3774, 64), dtype=float32), dense_shape=Tensor(\"gradient_tape/private__graph_conv_keras_model_3/graph_pool_6/Cast_6:0\", shape=(2,), dtype=int32))) to a dense Tensor of unknown shape. This may consume a large amount of memory.\n",
      "  warnings.warn(\n",
      "/opt/anaconda3/envs/deepchem/lib/python3.8/site-packages/tensorflow/python/framework/indexed_slices.py:447: UserWarning: Converting sparse IndexedSlices(IndexedSlices(indices=Tensor(\"gradient_tape/private__graph_conv_keras_model_3/graph_pool_6/Reshape_23:0\", shape=(652,), dtype=int32), values=Tensor(\"gradient_tape/private__graph_conv_keras_model_3/graph_pool_6/Reshape_22:0\", shape=(652, 64), dtype=float32), dense_shape=Tensor(\"gradient_tape/private__graph_conv_keras_model_3/graph_pool_6/Cast_7:0\", shape=(2,), dtype=int32))) to a dense Tensor of unknown shape. This may consume a large amount of memory.\n",
      "  warnings.warn(\n"
     ]
    },
    {
     "name": "stderr",
     "output_type": "stream",
     "text": [
      "/opt/anaconda3/envs/deepchem/lib/python3.8/site-packages/tensorflow/python/framework/indexed_slices.py:447: UserWarning: Converting sparse IndexedSlices(IndexedSlices(indices=Tensor(\"gradient_tape/private__graph_conv_keras_model_3/graph_pool_7/Reshape_14:0\", shape=(None,), dtype=int32), values=Tensor(\"gradient_tape/private__graph_conv_keras_model_3/graph_pool_7/Reshape_13:0\", shape=(None, 64), dtype=float32), dense_shape=Tensor(\"gradient_tape/private__graph_conv_keras_model_3/graph_pool_7/Cast_4:0\", shape=(2,), dtype=int32))) to a dense Tensor of unknown shape. This may consume a large amount of memory.\n",
      "  warnings.warn(\n",
      "/opt/anaconda3/envs/deepchem/lib/python3.8/site-packages/tensorflow/python/framework/indexed_slices.py:447: UserWarning: Converting sparse IndexedSlices(IndexedSlices(indices=Tensor(\"gradient_tape/private__graph_conv_keras_model_3/graph_pool_7/Reshape_17:0\", shape=(None,), dtype=int32), values=Tensor(\"gradient_tape/private__graph_conv_keras_model_3/graph_pool_7/Reshape_16:0\", shape=(None, 64), dtype=float32), dense_shape=Tensor(\"gradient_tape/private__graph_conv_keras_model_3/graph_pool_7/Cast_5:0\", shape=(2,), dtype=int32))) to a dense Tensor of unknown shape. This may consume a large amount of memory.\n",
      "  warnings.warn(\n",
      "/opt/anaconda3/envs/deepchem/lib/python3.8/site-packages/tensorflow/python/framework/indexed_slices.py:447: UserWarning: Converting sparse IndexedSlices(IndexedSlices(indices=Tensor(\"gradient_tape/private__graph_conv_keras_model_3/graph_pool_7/Reshape_20:0\", shape=(None,), dtype=int32), values=Tensor(\"gradient_tape/private__graph_conv_keras_model_3/graph_pool_7/Reshape_19:0\", shape=(None, 64), dtype=float32), dense_shape=Tensor(\"gradient_tape/private__graph_conv_keras_model_3/graph_pool_7/Cast_6:0\", shape=(2,), dtype=int32))) to a dense Tensor of unknown shape. This may consume a large amount of memory.\n",
      "  warnings.warn(\n",
      "/opt/anaconda3/envs/deepchem/lib/python3.8/site-packages/tensorflow/python/framework/indexed_slices.py:447: UserWarning: Converting sparse IndexedSlices(IndexedSlices(indices=Tensor(\"gradient_tape/private__graph_conv_keras_model_3/graph_pool_7/Reshape_23:0\", shape=(None,), dtype=int32), values=Tensor(\"gradient_tape/private__graph_conv_keras_model_3/graph_pool_7/Reshape_22:0\", shape=(None, 64), dtype=float32), dense_shape=Tensor(\"gradient_tape/private__graph_conv_keras_model_3/graph_pool_7/Cast_7:0\", shape=(2,), dtype=int32))) to a dense Tensor of unknown shape. This may consume a large amount of memory.\n",
      "  warnings.warn(\n",
      "/opt/anaconda3/envs/deepchem/lib/python3.8/site-packages/tensorflow/python/framework/indexed_slices.py:447: UserWarning: Converting sparse IndexedSlices(IndexedSlices(indices=Tensor(\"gradient_tape/private__graph_conv_keras_model_3/graph_conv_7/Reshape_11:0\", shape=(None,), dtype=int32), values=Tensor(\"gradient_tape/private__graph_conv_keras_model_3/graph_conv_7/Reshape_10:0\", shape=(None, 64), dtype=float32), dense_shape=Tensor(\"gradient_tape/private__graph_conv_keras_model_3/graph_conv_7/Cast:0\", shape=(2,), dtype=int32))) to a dense Tensor of unknown shape. This may consume a large amount of memory.\n",
      "  warnings.warn(\n",
      "/opt/anaconda3/envs/deepchem/lib/python3.8/site-packages/tensorflow/python/framework/indexed_slices.py:447: UserWarning: Converting sparse IndexedSlices(IndexedSlices(indices=Tensor(\"gradient_tape/private__graph_conv_keras_model_3/graph_conv_7/Reshape_13:0\", shape=(None,), dtype=int32), values=Tensor(\"gradient_tape/private__graph_conv_keras_model_3/graph_conv_7/Reshape_12:0\", shape=(None, 64), dtype=float32), dense_shape=Tensor(\"gradient_tape/private__graph_conv_keras_model_3/graph_conv_7/Cast_1:0\", shape=(2,), dtype=int32))) to a dense Tensor of unknown shape. This may consume a large amount of memory.\n",
      "  warnings.warn(\n",
      "/opt/anaconda3/envs/deepchem/lib/python3.8/site-packages/tensorflow/python/framework/indexed_slices.py:447: UserWarning: Converting sparse IndexedSlices(IndexedSlices(indices=Tensor(\"gradient_tape/private__graph_conv_keras_model_3/graph_conv_7/Reshape_15:0\", shape=(None,), dtype=int32), values=Tensor(\"gradient_tape/private__graph_conv_keras_model_3/graph_conv_7/Reshape_14:0\", shape=(None, 64), dtype=float32), dense_shape=Tensor(\"gradient_tape/private__graph_conv_keras_model_3/graph_conv_7/Cast_2:0\", shape=(2,), dtype=int32))) to a dense Tensor of unknown shape. This may consume a large amount of memory.\n",
      "  warnings.warn(\n",
      "/opt/anaconda3/envs/deepchem/lib/python3.8/site-packages/tensorflow/python/framework/indexed_slices.py:447: UserWarning: Converting sparse IndexedSlices(IndexedSlices(indices=Tensor(\"gradient_tape/private__graph_conv_keras_model_3/graph_conv_7/Reshape_17:0\", shape=(None,), dtype=int32), values=Tensor(\"gradient_tape/private__graph_conv_keras_model_3/graph_conv_7/Reshape_16:0\", shape=(None, 64), dtype=float32), dense_shape=Tensor(\"gradient_tape/private__graph_conv_keras_model_3/graph_conv_7/Cast_3:0\", shape=(2,), dtype=int32))) to a dense Tensor of unknown shape. This may consume a large amount of memory.\n",
      "  warnings.warn(\n",
      "/opt/anaconda3/envs/deepchem/lib/python3.8/site-packages/tensorflow/python/framework/indexed_slices.py:447: UserWarning: Converting sparse IndexedSlices(IndexedSlices(indices=Tensor(\"gradient_tape/private__graph_conv_keras_model_3/graph_pool_6/Reshape_14:0\", shape=(None,), dtype=int32), values=Tensor(\"gradient_tape/private__graph_conv_keras_model_3/graph_pool_6/Reshape_13:0\", shape=(None, 64), dtype=float32), dense_shape=Tensor(\"gradient_tape/private__graph_conv_keras_model_3/graph_pool_6/Cast_4:0\", shape=(2,), dtype=int32))) to a dense Tensor of unknown shape. This may consume a large amount of memory.\n",
      "  warnings.warn(\n",
      "/opt/anaconda3/envs/deepchem/lib/python3.8/site-packages/tensorflow/python/framework/indexed_slices.py:447: UserWarning: Converting sparse IndexedSlices(IndexedSlices(indices=Tensor(\"gradient_tape/private__graph_conv_keras_model_3/graph_pool_6/Reshape_17:0\", shape=(None,), dtype=int32), values=Tensor(\"gradient_tape/private__graph_conv_keras_model_3/graph_pool_6/Reshape_16:0\", shape=(None, 64), dtype=float32), dense_shape=Tensor(\"gradient_tape/private__graph_conv_keras_model_3/graph_pool_6/Cast_5:0\", shape=(2,), dtype=int32))) to a dense Tensor of unknown shape. This may consume a large amount of memory.\n",
      "  warnings.warn(\n",
      "/opt/anaconda3/envs/deepchem/lib/python3.8/site-packages/tensorflow/python/framework/indexed_slices.py:447: UserWarning: Converting sparse IndexedSlices(IndexedSlices(indices=Tensor(\"gradient_tape/private__graph_conv_keras_model_3/graph_pool_6/Reshape_20:0\", shape=(None,), dtype=int32), values=Tensor(\"gradient_tape/private__graph_conv_keras_model_3/graph_pool_6/Reshape_19:0\", shape=(None, 64), dtype=float32), dense_shape=Tensor(\"gradient_tape/private__graph_conv_keras_model_3/graph_pool_6/Cast_6:0\", shape=(2,), dtype=int32))) to a dense Tensor of unknown shape. This may consume a large amount of memory.\n",
      "  warnings.warn(\n",
      "/opt/anaconda3/envs/deepchem/lib/python3.8/site-packages/tensorflow/python/framework/indexed_slices.py:447: UserWarning: Converting sparse IndexedSlices(IndexedSlices(indices=Tensor(\"gradient_tape/private__graph_conv_keras_model_3/graph_pool_6/Reshape_23:0\", shape=(None,), dtype=int32), values=Tensor(\"gradient_tape/private__graph_conv_keras_model_3/graph_pool_6/Reshape_22:0\", shape=(None, 64), dtype=float32), dense_shape=Tensor(\"gradient_tape/private__graph_conv_keras_model_3/graph_pool_6/Cast_7:0\", shape=(2,), dtype=int32))) to a dense Tensor of unknown shape. This may consume a large amount of memory.\n",
      "  warnings.warn(\n"
     ]
    },
    {
     "data": {
      "text/plain": [
       "0.04257047653198242"
      ]
     },
     "execution_count": 50,
     "metadata": {},
     "output_type": "execute_result"
    }
   ],
   "source": [
    "# Fit trained model\n",
    "model.fit(train_dataset, nb_epoch=100)"
   ]
  },
  {
   "cell_type": "code",
   "execution_count": 51,
   "metadata": {},
   "outputs": [
    {
     "name": "stdout",
     "output_type": "stream",
     "text": [
      "Evaluating model\n",
      "Train scores\n",
      "{'mean-pearson_r2_score': 0.953137496363069}\n",
      "Validation scores\n",
      "{'mean-pearson_r2_score': 0.5913067558534401}\n",
      "Test scores\n",
      "{'mean-pearson_r2_score': 0.590841922208634}\n"
     ]
    }
   ],
   "source": [
    "# Note: results change everytime \n",
    "\n",
    "print(\"Evaluating model\")\n",
    "train_scores = model.evaluate(train_dataset, [metric], transformers)\n",
    "valid_scores = model.evaluate(valid_dataset, [metric], transformers)\n",
    "test_scores = model.evaluate(test_dataset, [metric], transformers)\n",
    "\n",
    "print(\"Train scores\")\n",
    "print(train_scores)\n",
    "\n",
    "print(\"Validation scores\")\n",
    "print(valid_scores)\n",
    "\n",
    "print(\"Test scores\")\n",
    "print(test_scores)"
   ]
  },
  {
   "cell_type": "code",
   "execution_count": null,
   "metadata": {},
   "outputs": [],
   "source": []
  }
 ],
 "metadata": {
  "kernelspec": {
   "display_name": "deepchem",
   "language": "python",
   "name": "deepchem"
  },
  "language_info": {
   "codemirror_mode": {
    "name": "ipython",
    "version": 3
   },
   "file_extension": ".py",
   "mimetype": "text/x-python",
   "name": "python",
   "nbconvert_exporter": "python",
   "pygments_lexer": "ipython3",
   "version": "3.8.10"
  }
 },
 "nbformat": 4,
 "nbformat_minor": 4
}
